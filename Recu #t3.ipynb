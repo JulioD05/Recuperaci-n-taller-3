{
 "cells": [
  {
   "cell_type": "markdown",
   "id": "5421db2a",
   "metadata": {},
   "source": [
    "# TALLER DE RECUPERACION 3\n",
    "## JULIO ERNESTO VASQUEZ DUEÑAS\n",
    "## 000515355\n",
    "## juliovasquezd.upb.edu.co \n"
   ]
  },
  {
   "cell_type": "code",
   "execution_count": 33,
   "id": "f9bd5061",
   "metadata": {},
   "outputs": [
    {
     "name": "stdout",
     "output_type": "stream",
     "text": [
      "Ingrese calificación: 2.99\n",
      "malo\n"
     ]
    }
   ],
   "source": [
    "\n",
    "x = float(input(\"Ingrese calificación: \"))\n",
    "\n",
    "if 5 >= x >= 4.5:\n",
    "    \n",
    "    print(\"exelente\") \n",
    "    \n",
    "elif 4.5 >= x >= 4.0:\n",
    "    \n",
    "    print(\"bueno\")\n",
    "    \n",
    "elif 4.0 >= x >= 3.0:\n",
    "    \n",
    "    print(\"Regular\")\n",
    "\n",
    "else:\n",
    "    \n",
    "    print(\"malo\")\n",
    "    \n",
    "    \n"
   ]
  },
  {
   "cell_type": "code",
   "execution_count": null,
   "id": "8a2f052d",
   "metadata": {},
   "outputs": [],
   "source": []
  },
  {
   "cell_type": "code",
   "execution_count": null,
   "id": "eea6c8fe",
   "metadata": {},
   "outputs": [],
   "source": []
  }
 ],
 "metadata": {
  "kernelspec": {
   "display_name": "Python 3 (ipykernel)",
   "language": "python",
   "name": "python3"
  },
  "language_info": {
   "codemirror_mode": {
    "name": "ipython",
    "version": 3
   },
   "file_extension": ".py",
   "mimetype": "text/x-python",
   "name": "python",
   "nbconvert_exporter": "python",
   "pygments_lexer": "ipython3",
   "version": "3.11.2"
  }
 },
 "nbformat": 4,
 "nbformat_minor": 5
}
